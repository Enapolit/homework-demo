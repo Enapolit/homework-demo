{
 "cells": [
  {
   "cell_type": "code",
   "execution_count": 1,
   "id": "63384dd8",
   "metadata": {},
   "outputs": [],
   "source": [
    "## Question 1\n",
    "## write a conditional expression that compares x and y and \n",
    "## prints \"x is larger than y\" if x is larger than y or\n",
    "## prints \"x is smaller than y\" if x is smaller than y\n"
   ]
  },
  {
   "cell_type": "code",
   "execution_count": 2,
   "id": "3824eee9",
   "metadata": {},
   "outputs": [],
   "source": [
    "## Question 2\n",
    "## write a for loop that prints the values in this list but increases each number by 5"
   ]
  },
  {
   "cell_type": "code",
   "execution_count": 3,
   "id": "ca7b67ae",
   "metadata": {},
   "outputs": [],
   "source": [
    "## Question 3\n",
    "## add these two numbers together and round to 2 decimal places"
   ]
  },
  {
   "cell_type": "code",
   "execution_count": null,
   "id": "fe2e4452",
   "metadata": {},
   "outputs": [],
   "source": []
  }
 ],
 "metadata": {
  "kernelspec": {
   "display_name": "Python 3 (ipykernel)",
   "language": "python",
   "name": "python3"
  },
  "language_info": {
   "codemirror_mode": {
    "name": "ipython",
    "version": 3
   },
   "file_extension": ".py",
   "mimetype": "text/x-python",
   "name": "python",
   "nbconvert_exporter": "python",
   "pygments_lexer": "ipython3",
   "version": "3.9.7"
  }
 },
 "nbformat": 4,
 "nbformat_minor": 5
}
